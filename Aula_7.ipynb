{
  "nbformat": 4,
  "nbformat_minor": 0,
  "metadata": {
    "colab": {
      "provenance": [],
      "authorship_tag": "ABX9TyNtvEN/Kt7RiMuTzwaoSOaJ",
      "include_colab_link": true
    },
    "kernelspec": {
      "name": "python3",
      "display_name": "Python 3"
    },
    "language_info": {
      "name": "python"
    }
  },
  "cells": [
    {
      "cell_type": "markdown",
      "metadata": {
        "id": "view-in-github",
        "colab_type": "text"
      },
      "source": [
        "<a href=\"https://colab.research.google.com/github/brunaguedes92/LogProgPython/blob/main/Aula_7.ipynb\" target=\"_parent\"><img src=\"https://colab.research.google.com/assets/colab-badge.svg\" alt=\"Open In Colab\"/></a>"
      ]
    },
    {
      "cell_type": "markdown",
      "source": [
        "LISTA DE EXERCÍCIOS\n",
        "ESTRUTURA DE REPETIÇÃO\n",
        "\n",
        "1. Faça um programa que solicite ao usuário uma nota, entre zero e dez. Deve-se verificar se\n",
        "essa nota é válida (ou seja, seu valor é menor que zero ou maior que dez). Caso a nota seja\n",
        "inválida, o programa deve continuar pedindo uma nota, até que o usuário informe um valor\n",
        "válido."
      ],
      "metadata": {
        "id": "dICj2GJjm6Le"
      }
    },
    {
      "cell_type": "code",
      "execution_count": 10,
      "metadata": {
        "colab": {
          "base_uri": "https://localhost:8080/"
        },
        "id": "JKEr0Vgkm308",
        "outputId": "11824354-2bf2-4bdb-af31-f9af30970e98"
      },
      "outputs": [
        {
          "name": "stdout",
          "output_type": "stream",
          "text": [
            "Digite a nota: 10\n"
          ]
        }
      ],
      "source": [
        "nota = -1\n",
        "\n",
        "while nota > 10 or nota <0:\n",
        "  nota = float (input('Digite a nota: ')) "
      ]
    },
    {
      "cell_type": "markdown",
      "source": [
        "2. Escreva um programa que apresente como resultado a potência de uma base elevada ao\n",
        "expoente qualquer, ou seja, de B\n",
        "E\n",
        ", em que B é o valor da base e E é o valor do expoente.\n",
        "Considere apenas a entrada de valores inteiros e positivos, ou seja, de valores naturais."
      ],
      "metadata": {
        "id": "0Fgv5AxEnER_"
      }
    },
    {
      "cell_type": "code",
      "source": [
        "base = int(input('Digite a base: '))\n",
        "\n",
        "while base < 0:\n",
        "  base = int(input('Digite a base, número positivo: '))\n",
        "\n",
        "expoente = int(input('Digite o expoente: '))\n",
        "\n",
        "while expoente < 0:\n",
        "  expoente = int(input('Digite o expoente, número positivo: '))\n",
        "\n",
        "resultado = base ** expoente\n",
        "\n",
        "print(f'O resultado da potência de {base} elevado ao expoente {expoente} é {resultado}')\n"
      ],
      "metadata": {
        "colab": {
          "base_uri": "https://localhost:8080/"
        },
        "id": "uzNRVjWnnPIN",
        "outputId": "01c878e0-f68a-4272-97fa-c0e52a4765b7"
      },
      "execution_count": 11,
      "outputs": [
        {
          "output_type": "stream",
          "name": "stdout",
          "text": [
            "Digite a base: -1\n",
            "Digite a base, número positivo: 4\n",
            "Digite o expoente: -40\n",
            "Digite o expoente, número positivo: -1\n",
            "Digite o expoente, número positivo: 5\n",
            "O resultado da potência de 4 elevado ao expoente 5 é 1024\n"
          ]
        }
      ]
    },
    {
      "cell_type": "markdown",
      "source": [
        "3. Na sala 302, todas as servidoras compartilham o lanche. Tem sempre um pote de biscoito e\n",
        "uma garrafa de café à disposição. Entretanto, alguém sempre esquece de encher o pote de\n",
        "biscoito. Sabendo que o pote comporta 500 gramas, faça um programa que receba como\n",
        "entrada a quantidade de gramas que uma certa pessoa comeu e avise quando o pote tiver\n",
        "menos que 50 gramas, para que alguém possa repor os biscoitos."
      ],
      "metadata": {
        "id": "ILRjjLcSnEQn"
      }
    },
    {
      "cell_type": "code",
      "source": [
        "pote = 500\n",
        "\n",
        "while pote >= 50:\n",
        "  qntd_comeu = int(input('Digite a quantidade que uma pessoa comeu: '))\n",
        "  pote = pote - qntd_comeu\n",
        "\n",
        "print('Reponha os biscoitos!')"
      ],
      "metadata": {
        "colab": {
          "base_uri": "https://localhost:8080/"
        },
        "id": "XdY9CvYVnPfF",
        "outputId": "ffe71324-cc8a-4da4-9991-2756e289463a"
      },
      "execution_count": 7,
      "outputs": [
        {
          "output_type": "stream",
          "name": "stdout",
          "text": [
            "Digite a quantidade que uma pessoa comeu: 300\n",
            "Digite a quantidade que uma pessoa comeu: 30\n",
            "Digite a quantidade que uma pessoa comeu: 2\n",
            "Digite a quantidade que uma pessoa comeu: 100\n",
            "Digite a quantidade que uma pessoa comeu: 50\n",
            "Reponha os biscoitos!\n"
          ]
        }
      ]
    },
    {
      "cell_type": "markdown",
      "source": [
        "4. Um edital foi aberto com 10 vagas. A servidora Cristina precisa preencher as 10 vagas por\n",
        "ordem de chegada. Faça um programa que receba como entrada os nomes dos inscritos e\n",
        "informe seus nomes na tela. Caso encerrarem as vagas, o programa não aceitará mais\n",
        "inscrições e informará na tela que as vagas esgotaram."
      ],
      "metadata": {
        "id": "9NIJ3OpSnMAl"
      }
    },
    {
      "cell_type": "code",
      "source": [
        "vagas = 10\n",
        "\n",
        "while vagas > 0:\n",
        "  nome = input('Digite o nome do inscrito: ')\n",
        "  print(nome)\n",
        "  vagas = vagas -1\n",
        "\n",
        "print('As vagas encerraram!')"
      ],
      "metadata": {
        "colab": {
          "base_uri": "https://localhost:8080/"
        },
        "id": "khsSKq-ynP4t",
        "outputId": "9af142ab-0865-4de1-d93f-0cb68d1b7efb"
      },
      "execution_count": 9,
      "outputs": [
        {
          "output_type": "stream",
          "name": "stdout",
          "text": [
            "Digite o nome do inscrito: bruna\n",
            "bruna\n",
            "Digite o nome do inscrito: maria\n",
            "maria\n",
            "Digite o nome do inscrito: josé\n",
            "josé\n",
            "Digite o nome do inscrito: francisco\n",
            "francisco\n",
            "Digite o nome do inscrito: aparecida\n",
            "aparecida\n",
            "Digite o nome do inscrito: conceição\n",
            "conceição\n",
            "Digite o nome do inscrito: esdras\n",
            "esdras\n",
            "Digite o nome do inscrito: pedro\n",
            "pedro\n",
            "Digite o nome do inscrito: mateus\n",
            "mateus\n",
            "Digite o nome do inscrito: dandara\n",
            "dandara\n",
            "As vagas encerraram!\n"
          ]
        }
      ]
    }
  ]
}