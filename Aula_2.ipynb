{
  "nbformat": 4,
  "nbformat_minor": 0,
  "metadata": {
    "colab": {
      "provenance": [],
      "authorship_tag": "ABX9TyNBVAgsc/b8x5BG/QejUVM1",
      "include_colab_link": true
    },
    "kernelspec": {
      "name": "python3",
      "display_name": "Python 3"
    },
    "language_info": {
      "name": "python"
    }
  },
  "cells": [
    {
      "cell_type": "markdown",
      "metadata": {
        "id": "view-in-github",
        "colab_type": "text"
      },
      "source": [
        "<a href=\"https://colab.research.google.com/github/brunaguedes92/LogProgPython/blob/main/Aula_2.ipynb\" target=\"_parent\"><img src=\"https://colab.research.google.com/assets/colab-badge.svg\" alt=\"Open In Colab\"/></a>"
      ]
    },
    {
      "cell_type": "markdown",
      "source": [
        "1. Faça um programa que solicite o salário de uma servidora e então mostre a mensagem “O salário informado foi” seguido do valor obtido como entrada."
      ],
      "metadata": {
        "id": "alJAxgJL6wy8"
      }
    },
    {
      "cell_type": "code",
      "source": [
        "salario = float(input ('Informe o salário de uma servidora: '))\n",
        "\n",
        "print(f'O salário informado foi {salario:.2f}')"
      ],
      "metadata": {
        "colab": {
          "base_uri": "https://localhost:8080/"
        },
        "id": "clUymIyi6zhf",
        "outputId": "1d7e5edb-c9fd-461d-c43f-b7425e8e7416"
      },
      "execution_count": 13,
      "outputs": [
        {
          "output_type": "stream",
          "name": "stdout",
          "text": [
            "Informe o salário de uma servidora: 11111\n",
            "O salário informado foi 11111.00\n"
          ]
        }
      ]
    },
    {
      "cell_type": "markdown",
      "source": [
        "2. Fazer um programa para ler dois números inteiros, calcular e imprimir:\n",
        "\n",
        "a) A soma dos dois números\n",
        "\n",
        "b) A subtração do primeiro pelo segundo\n",
        "\n",
        "c) A multiplicação dos dois \n",
        "\n",
        "d) A divisão do primeiro número pelo segundo\n",
        "\n",
        "e) O resto da divisão do primeiro pelo segundo\n",
        "\n",
        "f) O primeiro número elevado ao quadrado"
      ],
      "metadata": {
        "id": "BoJlZ1Sm7rkE"
      }
    },
    {
      "cell_type": "code",
      "source": [
        "num1 = float(input('Digite o primeiro número: '))\n",
        "num2 = float(input('Digite o segundo número: '))\n",
        "\n",
        "print(f'Soma dos dois números: {num1 + num2}')\n",
        "print(f'A subtração do primeiro pelo segundo: {num1 - num2}')\n",
        "print(f'A multiplicação dos dois: {num1 * num2}')\n",
        "print(f'A divisão do primeiro número pelo segundo: {num1 / num2}')\n",
        "print(f'O resto da divisão do primeiro pelo segundo: {num1 % num2}')\n",
        "print(f'O primeiro número elevado ao quadrado: {num1 ** 2}')"
      ],
      "metadata": {
        "colab": {
          "base_uri": "https://localhost:8080/"
        },
        "id": "aRnH5ORM8Ap0",
        "outputId": "65c7b2e7-b3ce-40e3-abf4-ea18972f8acb"
      },
      "execution_count": 8,
      "outputs": [
        {
          "output_type": "stream",
          "name": "stdout",
          "text": [
            "Digite o primeiro número: 3\n",
            "Digite o segundo número: 3\n",
            "Soma dos dois números: 6.0\n",
            "A subtração do primeiro pelo segundo: 0.0\n",
            "A multiplicação dos dois: 9.0\n",
            "A divisão do primeiro número pelo segundo: 1.0\n",
            "O resto da divisão do primeiro pelo segundo: 0.0\n",
            "O primeiro número elevado ao quadrado: 9.0\n"
          ]
        }
      ]
    },
    {
      "cell_type": "markdown",
      "source": [
        "3. Faça um programa que solicite o salário de três servidoras e mostre a média de salário delas."
      ],
      "metadata": {
        "id": "MOZ9A5ba-T57"
      }
    },
    {
      "cell_type": "code",
      "source": [
        "salario1 = float(input ('Informe o salário da servidora 1: '))\n",
        "salario2 = float(input ('Informe o salário da servidora 2: '))\n",
        "salario3 = float(input ('Informe o salário da servidora 3: '))\n",
        "\n",
        "\n",
        "print(f'A média dos três salários é: {(salario1 + salario2 + salario3)/3:.2f}')"
      ],
      "metadata": {
        "colab": {
          "base_uri": "https://localhost:8080/"
        },
        "id": "fnVDfcEs-jsv",
        "outputId": "7869458c-37c6-4757-cd6d-935798b06088"
      },
      "execution_count": 12,
      "outputs": [
        {
          "output_type": "stream",
          "name": "stdout",
          "text": [
            "Informe o salário da servidora 1: 20\n",
            "Informe o salário da servidora 2: 30\n",
            "Informe o salário da servidora 3: 40\n",
            "A média dos três salários é: 30.00\n"
          ]
        }
      ]
    }
  ]
}