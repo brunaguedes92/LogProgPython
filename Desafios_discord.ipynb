{
  "nbformat": 4,
  "nbformat_minor": 0,
  "metadata": {
    "colab": {
      "provenance": [],
      "authorship_tag": "ABX9TyP2l07MiZ3i403NN8KDV5Yd",
      "include_colab_link": true
    },
    "kernelspec": {
      "name": "python3",
      "display_name": "Python 3"
    },
    "language_info": {
      "name": "python"
    }
  },
  "cells": [
    {
      "cell_type": "markdown",
      "metadata": {
        "id": "view-in-github",
        "colab_type": "text"
      },
      "source": [
        "<a href=\"https://colab.research.google.com/github/brunaguedes92/LogProgPython/blob/main/Desafios_discord.ipynb\" target=\"_parent\"><img src=\"https://colab.research.google.com/assets/colab-badge.svg\" alt=\"Open In Colab\"/></a>"
      ]
    },
    {
      "cell_type": "markdown",
      "source": [
        "Desafio 1. BOLA MURCHA\n",
        "\n",
        "Sua ajuda foi requisitada para desenvolver o programa da próxima bomba automatizada para encher bolas da SBC - Sistemas de Bombas Computadorizadas. Escreva um programa que, dada a pressão desejada pelo esportista e a pressão da bola lida pela bomba, indica a diferença entre a pressão desejada e a pressão lida.\n",
        "\n",
        "Entrada\n",
        "A primeira linha da entrada contém um inteiro N que indica a pressão desejada pelo esportista. A segunda linha contém um inteiro M que indica a pressão lida pela bomba.\n",
        "\n",
        "Saída\n",
        "Seu programa deve imprimir uma única linha, contendo a diferença entre a pressão desejada e a pressão lida.\n",
        "\n",
        "(Desafio baseado em questões da OBI)"
      ],
      "metadata": {
        "id": "kUN3IP2GxRdi"
      }
    },
    {
      "cell_type": "code",
      "execution_count": null,
      "metadata": {
        "id": "dG9LQEnlxQ51",
        "colab": {
          "base_uri": "https://localhost:8080/"
        },
        "outputId": "edca5e90-2a7a-4f64-e79b-0538df2c879c"
      },
      "outputs": [
        {
          "output_type": "stream",
          "name": "stdout",
          "text": [
            "Qual a pressão desejada? 10\n",
            "Qual a pressão medida?23\n",
            "A diferença entre a pressão desejada e a pressão medida é: -13\n"
          ]
        }
      ],
      "source": [
        "desejada = int(input('Qual a pressão desejada? '))\n",
        "medida = int(input('Qual a pressão medida?'))\n",
        "print(f'A diferença entre a pressão desejada e a pressão medida é: {desejada - medida}')"
      ]
    },
    {
      "cell_type": "markdown",
      "source": [
        "Desafio 2. Premiação\n",
        "\n",
        "Uma ONG (Organização Não Governamental) oferece cursos gratuitos de programação de computadores, dança, música e culinária. Aproveitando a cozinha montada para os cursos de culinária, também vende pães integrais, doces e bolos para ajudar nas despesas.\n",
        "\n",
        "O diretor da ONG anunciou um incentivo para a venda da produção da cozinha: considerando que cada pão vale 1 ponto, cada doce vale 2 pontos e cada bolo vale 3 pontos, os colaboradores ganharão um prêmio dependendo da soma total dos pontos dos produtos vendidos durante a semana.\n",
        "\n",
        "Se a soma dos pontos de todos os produtos vendidos na semana for igual ou maior do que 150, cada colaborador recebe um bolo como prêmio.\n",
        "Se a soma dos pontos for maior ou igual a 120, cada colaborador recebe um doce como prêmio;\n",
        "Se a soma dos pontos for maior ou igual a 100, cada colaborador recebe um pão como prêmio.\n",
        "Se a soma dos pontos for menor do que 100, não haverá prêmio para os colaboradores.\n",
        "\n",
        "Sabendo que você fez um curso de programação na ONG, o diretor pediu que você escreva um\n",
        "programa que, dados os números de pães, doces e bolos vendidos na semana, determine qual o\n",
        "prêmio merecido.\n",
        "\n",
        "Dica:\n",
        "Leia como entrada o número de pães, doces e bolos vendidos na semana, todos inteiros.\n",
        "\n",
        "Saída:\n",
        "Seu programa deve produzir uma única linha, contendo o prêmio merecido: bolo, doce, pão, ou não ganhou prêmio.\n"
      ],
      "metadata": {
        "id": "slezzaiTqaDD"
      }
    },
    {
      "cell_type": "code",
      "source": [
        "paes = int(input('Quantos paes foram vendidos? '))\n",
        "doces = int(input('Quantos doces foram vendidos? '))\n",
        "bolos = int(input('Quantos bolos foram vendidos? '))\n",
        "\n",
        "pontos = paes + doces*2 + bolos*3\n",
        "\n",
        "print(f'Prontos: {pontos}')\n",
        "\n",
        "if pontos >= 150:\n",
        "  print('Cada colaborador recebe um bolo como prêmio')\n",
        "elif pontos >= 120:\n",
        "  print('Cada colaborador recebe um doce como prêmio')\n",
        "else:\n",
        "  print('Cada colaborador recebe um pao como prêmio')"
      ],
      "metadata": {
        "colab": {
          "base_uri": "https://localhost:8080/"
        },
        "id": "ZcanaWLwqnl6",
        "outputId": "c93606ff-9517-4707-e147-11a3c0988c34"
      },
      "execution_count": null,
      "outputs": [
        {
          "output_type": "stream",
          "name": "stdout",
          "text": [
            "Quantos paes foram vendidos? 30\n",
            "Quantos doces foram vendidos? 23\n",
            "Quantos bolos foram vendidos? 21\n",
            "Prontos: 139\n",
            "Cada colaborador recebe um doce como prêmio\n"
          ]
        }
      ]
    },
    {
      "cell_type": "markdown",
      "source": [
        "Saldo do Vovô\n",
        "\n",
        "Vovô João vai ao banco todos os dias, realizar um depósito ou uma retirada de dinheiro, resultado diário da operação de sua banca de jornais. Dada a movimentação diária da conta do banco do Vovô João, você deve escrever um programa que calcule o menor saldo da conta, em um dado período.\n",
        "\n",
        "Entrada\n",
        "---------\n",
        "Seu programa deve ler um número inteiro N que indica o número de dias do período de interesse.\n",
        "Seu programa deve ler outro número inteiro que indica o saldo da conta no início do período.\n",
        "Depois disso, o programa deverá ler o valor inteiro da movimentação diária da conta do Vovô (valor positivo no caso de depósito, valor negativo no caso de retirada) para todos os dias de interesse (use um comando de repetição).\n",
        "\n",
        "Saída\n",
        "-------\n",
        "Seu programa deve imprimir, a cada interação:\n",
        "O saldo do dia\n",
        "Ao final, deve imprimir o menor saldo da conta no período informado."
      ],
      "metadata": {
        "id": "Q23OEUvUsGmT"
      }
    },
    {
      "cell_type": "code",
      "source": [
        "num_dias = int(input('Indique o número de dias do período de interesse'))\n",
        "saldo_inicial = int(input('Indique o saldo da conta no início do período'))\n",
        "menor_saldo = saldo_inicial\n",
        "saldo = saldo_inicial\n",
        "\n",
        "while num_dias > 0:\n",
        "  movimentacao_diaria = int(input('Digite o valor inteiro da movimentação diária da conta do Vovô (valor positivo no caso de depósito, valor negativo no caso de retirada) para todos os dias de interesse (use um comando de repetição)'))\n",
        "  saldo += movimentacao_diaria\n",
        "  print(f'O saldo do dia é: {saldo}')\n",
        "  num_dias -= 1\n",
        "  if saldo < saldo_inicial: menor_saldo = saldo\n",
        "\n",
        "print(f'O menor saldo da conta no período informado foi {menor_saldo}')\n"
      ],
      "metadata": {
        "colab": {
          "base_uri": "https://localhost:8080/"
        },
        "id": "oQv3zNjfsOR6",
        "outputId": "393180ad-34a3-4365-9339-0c2a63ff3e8b"
      },
      "execution_count": null,
      "outputs": [
        {
          "output_type": "stream",
          "name": "stdout",
          "text": [
            "Indique o número de dias do período de interesse2\n",
            "Indique o saldo da conta no início do período300\n",
            "Digite o valor inteiro da movimentação diária da conta do Vovô (valor positivo no caso de depósito, valor negativo no caso de retirada) para todos os dias de interesse (use um comando de repetição)50\n",
            "O saldo do dia é: 350\n",
            "Digite o valor inteiro da movimentação diária da conta do Vovô (valor positivo no caso de depósito, valor negativo no caso de retirada) para todos os dias de interesse (use um comando de repetição)-200\n",
            "O saldo do dia é: 150\n",
            "O menor saldo da conta no período informado foi 150\n"
          ]
        }
      ]
    },
    {
      "cell_type": "markdown",
      "source": [
        "Validação de dados\n",
        "=================\n",
        "Faça um programa que peça uma nota, entre zero e dez. Mostre uma mensagem caso o valor seja inválido e continue pedindo até que o usuário informe um valor válido.\n",
        "\n",
        "Entrada: Seu programa deve ler uma nota e testar se ela atende às condições desejadas. Caso não atenda, imprima na tela uma mensagem (“Nota inválida. Digite novamente.” Ou “A nota não pode ser menor que 0 ou maior que 10! Tente de novo:\"\n",
        " e leia novamente.\n",
        "\n",
        "Saída: Ao final, eu programa deve imprimir “Nota válida”"
      ],
      "metadata": {
        "id": "LwErDpyDwe0p"
      }
    },
    {
      "cell_type": "code",
      "source": [
        "nota = int(input('Digite uma nota de 0 a 10: '))\n",
        "\n",
        "while nota < 0 or nota > 10:\n",
        "  nota = int(input('A nota não pode ser menor que 0 ou maior que 10! Tente de novo: '))\n",
        "\n",
        "print('Nota válida')"
      ],
      "metadata": {
        "colab": {
          "base_uri": "https://localhost:8080/"
        },
        "id": "Xao8Fi9VwkbB",
        "outputId": "30866633-e7c6-49bd-d03d-a0e27e10e82b"
      },
      "execution_count": null,
      "outputs": [
        {
          "output_type": "stream",
          "name": "stdout",
          "text": [
            "Digite uma nota de 0 a 10: -1\n",
            "A nota não pode ser menor que 0 ou maior que 10! Tente de novo: 20\n",
            "A nota não pode ser menor que 0 ou maior que 10! Tente de novo: 5\n",
            "Nota válida\n"
          ]
        }
      ]
    },
    {
      "cell_type": "markdown",
      "source": [
        "NÚMERO SECRETO\n",
        "\n",
        "Faça um programa que solicite ao usuário que adivinhe um número secreto entre 1 e 10, que foi definido por você.\n",
        "O programa deve continuar solicitando palpites até que o usuário acerte."
      ],
      "metadata": {
        "id": "yr_fXQ2ryO95"
      }
    },
    {
      "cell_type": "code",
      "source": [
        "import random\n",
        "\n",
        "numero_secreto = random.randint(1, 10)\n",
        "num_tentativas = 1\n",
        "\n",
        "tentativa = int(input('Adivinhe um número secreto entre 1 e 10'))\n",
        "\n",
        "while numero_secreto != tentativa:\n",
        "  tentativa = int(input('Errou. Adivinhe um número secreto entre 1 e 10'))\n",
        "  num_tentativas += 1\n",
        "\n",
        "print(f'Acertou com {num_tentativas} tentativas')\n",
        "\n"
      ],
      "metadata": {
        "colab": {
          "base_uri": "https://localhost:8080/"
        },
        "id": "VfbJXQdxyXd5",
        "outputId": "33f2dabc-26fe-4e10-bd29-a28b22f3f03c"
      },
      "execution_count": null,
      "outputs": [
        {
          "output_type": "stream",
          "name": "stdout",
          "text": [
            "Adivinhe um número secreto entre 1 e 105\n",
            "Errou. Adivinhe um número secreto entre 1 e 102\n",
            "Errou. Adivinhe um número secreto entre 1 e 101\n",
            "Errou. Adivinhe um número secreto entre 1 e 1010\n",
            "acertou com 4 tentativas\n"
          ]
        }
      ]
    },
    {
      "cell_type": "markdown",
      "source": [
        "IDADE DA TURMA\n",
        "\n",
        "Faça um programa que peça para n pessoas a sua idade. Ao final o programa devera verificar se a média de idade da turma varia entre 0 e 25, 26 e 60 ou maior que 60; e então, imprimir se a turma é jovem, adulta ou idosa, conforme a média calculada."
      ],
      "metadata": {
        "id": "eVEXPGNEz38I"
      }
    },
    {
      "cell_type": "code",
      "source": [
        "soma_idade = 0\n",
        "qntd = 0\n",
        "\n",
        "while True:\n",
        "  idade = int(input('Digite a idade. Digite -1 para sair: '))\n",
        "  if idade == -1: break\n",
        "  qntd += 1\n",
        "  soma_idade += idade\n",
        "\n",
        "media = soma_idade / qntd\n",
        "\n",
        "if media <= 25:\n",
        "  print('A turma é jovem')\n",
        "elif media > 25 and media <= 60:\n",
        "  print('A turma é adulta')\n",
        "else:\n",
        "  print('A turma é idosa')\n"
      ],
      "metadata": {
        "id": "jbW9Eh3Pz5ow",
        "colab": {
          "base_uri": "https://localhost:8080/"
        },
        "outputId": "71dfa2f0-e1d6-4712-96b5-465d6df8ec8c"
      },
      "execution_count": 2,
      "outputs": [
        {
          "output_type": "stream",
          "name": "stdout",
          "text": [
            "Digite a idade. Digite -1 para sair: 21\n",
            "Digite a idade. Digite -1 para sair: 25\n",
            "Digite a idade. Digite -1 para sair: 30\n",
            "Digite a idade. Digite -1 para sair: 21\n",
            "Digite a idade. Digite -1 para sair: 34\n",
            "Digite a idade. Digite -1 para sair: -1\n",
            "A turma é adulta\n"
          ]
        }
      ]
    },
    {
      "cell_type": "markdown",
      "source": [
        "RELÓGIO DO ATLETA\n",
        "\n",
        "Uma empresa está desenvolvendo um novo relógio eletrônico para atletas de alto desempenho. Uma das funcionalidades do novo relógio é que ele vai medir a frequência cardíaca atual (batidas do coração por minuto) e a capacidade de oxigenação atual do atleta. O relógio também vai calcular e armazenar a frequência cardíaca em repouso do atleta.\n",
        "Os projetistas querem que o relógio emita um aviso para o atleta de que ele ou ela deve:\n",
        "\n",
        "diminuir o ritmo do exercício se a frequência cardíaca atual é maior do que três vezes a frequência cardíaca em repouso ou a capacidade de oxigenação atual é menor do que 95;\n",
        "aumentar o ritmo do exercício se a frequência cardíaca atual é menor do que duas vezes a frequência cardíaca em repouso e a capacidade de oxigenação atual é maior do que 97;\n",
        "manter o ritmo de exercício se nenhuma das condições anteriores ocorrer.\n",
        "\n",
        "Dadas a frequência cardíaca em repouso, a frequência cardíaca atual e a capacidade de oxigenação atual obtidas pelo relógio, escreva um programa que produza a sugestão que o relógio deve emitir."
      ],
      "metadata": {
        "id": "2j49jXjtdNwf"
      }
    },
    {
      "cell_type": "code",
      "source": [
        "frequencia_cardiaca_repouso = int(input('Digite a frequencia cardíaca de repouso: '))\n",
        "frequencia_cardiaca_atual = int(input('Digite a frequencia cardíaca atual: '))\n",
        "capacidade_oxigenacao_atual = int(input('Digite a capacidade de oxigenação atual do sangue: '))\n",
        "\n",
        "if frequencia_cardiaca_atual > frequencia_cardiaca_repouso * 3 or capacidade_oxigenacao_atual < 95:\n",
        "  print('Diminuir o ritmo do exercício')\n",
        "elif frequencia_cardiaca_atual < frequencia_cardiaca_repouso * 2 and capacidade_oxigenacao_atual > 97:\n",
        "  print('aumentar o ritmo do exercício')\n",
        "else:\n",
        "  print('manter o ritmo do exercício')"
      ],
      "metadata": {
        "colab": {
          "base_uri": "https://localhost:8080/"
        },
        "id": "y1nuWM7-dOxH",
        "outputId": "898b23e0-4477-4cfc-c2c7-20bda1b95c6a"
      },
      "execution_count": 3,
      "outputs": [
        {
          "output_type": "stream",
          "name": "stdout",
          "text": [
            "Digite a frequencia cardíaca de repouso: 60\n",
            "Digite a frequencia cardíaca atual: 120\n",
            "Digite a capacidade de oxigenação atual do sangue: 98\n",
            "manter o ritmo do exercício\n"
          ]
        }
      ]
    }
  ]
}