{
  "nbformat": 4,
  "nbformat_minor": 0,
  "metadata": {
    "colab": {
      "provenance": [],
      "authorship_tag": "ABX9TyPJjz1g+FJHbRknuu4W6f9y",
      "include_colab_link": true
    },
    "kernelspec": {
      "name": "python3",
      "display_name": "Python 3"
    },
    "language_info": {
      "name": "python"
    }
  },
  "cells": [
    {
      "cell_type": "markdown",
      "metadata": {
        "id": "view-in-github",
        "colab_type": "text"
      },
      "source": [
        "<a href=\"https://colab.research.google.com/github/brunaguedes92/LogProgPython/blob/main/Aula_1.ipynb\" target=\"_parent\"><img src=\"https://colab.research.google.com/assets/colab-badge.svg\" alt=\"Open In Colab\"/></a>"
      ]
    },
    {
      "cell_type": "markdown",
      "source": [
        "1. Faça um programa que exiba a mensagem “Olá, seja bem-vida!”."
      ],
      "metadata": {
        "id": "ao8nS2Rx23wk"
      }
    },
    {
      "cell_type": "code",
      "source": [
        "print('Olá, seja bem-vida!')"
      ],
      "metadata": {
        "colab": {
          "base_uri": "https://localhost:8080/"
        },
        "id": "VPxHB0892_vg",
        "outputId": "6ba34a74-c2b2-4d74-dda9-1eb0107d6ade"
      },
      "execution_count": null,
      "outputs": [
        {
          "output_type": "stream",
          "name": "stdout",
          "text": [
            "Olá, seja bem-vida!\n"
          ]
        }
      ]
    },
    {
      "cell_type": "markdown",
      "source": [
        "2. Faça um programa que exiba na tela o seu nome e o setor em que você atua."
      ],
      "metadata": {
        "id": "KCdtS4BN3DKI"
      }
    },
    {
      "cell_type": "code",
      "source": [
        "print('Bruna, Secretaria de Governo Digital')"
      ],
      "metadata": {
        "colab": {
          "base_uri": "https://localhost:8080/"
        },
        "id": "AP7Vs8ki3VMp",
        "outputId": "fd20b431-f5bf-4001-e282-6bc582c15c5d"
      },
      "execution_count": null,
      "outputs": [
        {
          "output_type": "stream",
          "name": "stdout",
          "text": [
            "Bruna, Secretaria de Governo Digital\n"
          ]
        }
      ]
    }
  ]
}