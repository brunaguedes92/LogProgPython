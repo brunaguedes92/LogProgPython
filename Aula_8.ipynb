{
  "nbformat": 4,
  "nbformat_minor": 0,
  "metadata": {
    "colab": {
      "provenance": [],
      "authorship_tag": "ABX9TyOupcKbLETTbAA1IBngV+Dj",
      "include_colab_link": true
    },
    "kernelspec": {
      "name": "python3",
      "display_name": "Python 3"
    },
    "language_info": {
      "name": "python"
    }
  },
  "cells": [
    {
      "cell_type": "markdown",
      "metadata": {
        "id": "view-in-github",
        "colab_type": "text"
      },
      "source": [
        "<a href=\"https://colab.research.google.com/github/brunaguedes92/LogProgPython/blob/main/Aula_8.ipynb\" target=\"_parent\"><img src=\"https://colab.research.google.com/assets/colab-badge.svg\" alt=\"Open In Colab\"/></a>"
      ]
    },
    {
      "cell_type": "markdown",
      "source": [
        "LISTA DE EXERCÍCIOS\n",
        "ESTRUTURA DE REPETIÇÃO\n",
        "\n",
        "1. Faça um programa que calcule e retorne o resultado da seguinte soma:\n",
        "\n",
        "S = 21/50 + 22/49 + 23/48 +... + 70/1"
      ],
      "metadata": {
        "id": "6sUZmS_NrymN"
      }
    },
    {
      "cell_type": "code",
      "execution_count": 1,
      "metadata": {
        "colab": {
          "base_uri": "https://localhost:8080/"
        },
        "id": "i7cqptZVrsw9",
        "outputId": "dd965b10-c6fa-40f4-9f89-96c60aa5967c"
      },
      "outputs": [
        {
          "output_type": "stream",
          "name": "stdout",
          "text": [
            "A soma é 269.44357902138916\n"
          ]
        }
      ],
      "source": [
        "numerador = 21\n",
        "denominador = 50\n",
        "soma = 0\n",
        "\n",
        "while numerador <= 70:\n",
        "  soma = soma + numerador / denominador\n",
        "  numerador = numerador + 1\n",
        "  denominador = denominador - 1\n",
        "\n",
        "print (f'A soma é {soma}')"
      ]
    },
    {
      "cell_type": "markdown",
      "source": [
        "2. Fazer um programa para calcular e escrever a seguinte soma:\n",
        "\n",
        "![image.png](data:image/png;base64,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)"
      ],
      "metadata": {
        "id": "NqoUruDmr6Rk"
      }
    },
    {
      "cell_type": "code",
      "source": [
        "num1 = 37\n",
        "denominador2 = 1\n",
        "soma = 0\n",
        "\n",
        "while denominador2 <= 37:\n",
        "  soma = soma + num1 * (num1 + 1) / denominador2\n",
        "  num1 = num1 - 1\n",
        "  denominador2 = denominador2 + 1\n",
        "\n",
        "print(f'A soma é {soma}')"
      ],
      "metadata": {
        "colab": {
          "base_uri": "https://localhost:8080/"
        },
        "id": "irGeR7Udr75l",
        "outputId": "6cc2c83e-1d30-49b6-91de-24c83f4c4dd7"
      },
      "execution_count": 3,
      "outputs": [
        {
          "output_type": "stream",
          "name": "stdout",
          "text": [
            "A soma é 4080.7507837037087\n"
          ]
        }
      ]
    },
    {
      "cell_type": "markdown",
      "source": [
        "3. Faça um programa que leia um conjunto de informações sobre a idade dos empregados.\n",
        "Essa computação deve ocorrer até que exista uma condição de parada. Calcule e exiba a idade\n",
        "média de todos os empregados que pertencem a esse conjunto."
      ],
      "metadata": {
        "id": "K6gvGNzPr8tl"
      }
    },
    {
      "cell_type": "code",
      "source": [
        "soma_idade = 0\n",
        "qntd_funcionarios = 0\n",
        "\n",
        "while True :\n",
        "  idade = int(input('Digite a idade do funcionario. Digite 0 para sair: '))\n",
        "  if idade == 0:\n",
        "    break\n",
        "  soma_idade = soma_idade + idade\n",
        "  qntd_funcionarios = qntd_funcionarios + 1\n",
        "\n",
        "print(f'A media de idade é {soma_idade / qntd_funcionarios:.0f}')"
      ],
      "metadata": {
        "colab": {
          "base_uri": "https://localhost:8080/"
        },
        "id": "roBCfYafr-vc",
        "outputId": "fd9be81e-1c78-44f7-aee3-cbda2e2d0f75"
      },
      "execution_count": 23,
      "outputs": [
        {
          "output_type": "stream",
          "name": "stdout",
          "text": [
            "Digite a idade do funcionario. Digite 0 para sair: 5\n",
            "Digite a idade do funcionario. Digite 0 para sair: 0\n",
            "A media de idade é 5\n"
          ]
        }
      ]
    },
    {
      "cell_type": "markdown",
      "source": [
        "4. Faça um programa que compute todas as operações matemáticas (soma, subtração,\n",
        "multiplicação e divisão), dado o acesso a três variáveis locais (numero1, numero2, operador).\n",
        "O usuário poderá utilizar a tabuada várias vezes, até encontrar uma condição de parada."
      ],
      "metadata": {
        "id": "cYC18V3lsMDM"
      }
    },
    {
      "cell_type": "code",
      "source": [
        "parada = 1\n",
        "\n",
        "while True:\n",
        "  operador = input('Digite o operador: (+,-,/ ou *). Digite 0 para sair: ')\n",
        "  if operador == '0':\n",
        "    break\n",
        "  numero1 = float(input('Digite o primeiro número: '))\n",
        "  numero2 = float(input('Digite o segundo número: '))\n",
        "  if operador == '+':\n",
        "    print(f'O resultado da soma é {numero1 + numero2}')\n",
        "  elif operador == '-':\n",
        "    print(f'O resultado da subtração é {numero1 - numero2}')\n",
        "  elif operador == '*':\n",
        "    print(f'O resultado da multiplicação é {numero1 * numero2}')\n",
        "  elif operador == '/':\n",
        "    print(f'O resultado da divisão é {numero1 / numero2}')"
      ],
      "metadata": {
        "colab": {
          "base_uri": "https://localhost:8080/"
        },
        "id": "TOg6yxIwsM4F",
        "outputId": "06dc7663-2d9a-4e1e-8c35-3c3ad617ed30"
      },
      "execution_count": 26,
      "outputs": [
        {
          "name": "stdout",
          "output_type": "stream",
          "text": [
            "Digite o operador: (+,-,/ ou *). Digite 0 para sair: 0\n"
          ]
        }
      ]
    },
    {
      "cell_type": "markdown",
      "source": [
        "\n",
        "5. Faça um programa que leia os seguintes dados de vários habitantes de uma cidade:\n",
        "\n",
        "Gênero ('M' ou 'F');\n",
        "\n",
        "Cor dos cabelos (1: pretos; 2: loiros; 3: castanhos; 4: outra cor);\n",
        "\n",
        "Cor dos olhos )(1: castanhos; 2: pretos; 3: verdes; 4: outra cor;\n",
        "\n",
        "Idade (em anos).\n",
        "\n",
        "\n",
        "\n",
        "Compute e escreva:\n",
        "\n",
        "\n",
        "\n",
        "a) A quantidade de pessoas do sexo feminino, com idade acima de 50 anos.\n",
        "\n",
        "b) A quantidade de pessoas que tem olhos verdes, cabelos loiros e com idade entre 15\n",
        "e 35 anos.\n"
      ],
      "metadata": {
        "id": "sWHILJZWsMEc"
      }
    },
    {
      "cell_type": "code",
      "source": [
        "sexo_fem_50_mais = 0\n",
        "olho_verde_cabelo_loiro_15_a_35_anos = 0\n",
        "\n",
        "while True:\n",
        "  genero = input('Digite o gênero da cidadã ou cidadão (M ou F). Digite 0 para sair: ')\n",
        "  if genero == '0':\n",
        "    break\n",
        "  cor_cabelo = int(input('Digite a cor dos cabelos da cidadã (1: pretos; 2: loiros; 3: castanhos; 4: outra cor): '))\n",
        "  cor_olhos = int(input('Digite a cor dos olhos da cidadã (1: castanhos; 2: pretos; 3: verdes; 4: outra cor: '))\n",
        "  idade = int(input('Digite a idade da cidadã: '))\n",
        "  if genero == 'F' or 'f' and idade > 50:\n",
        "    sexo_fem_50_mais += 1\n",
        "  if cor_cabelo == 2 and cor_olhos == 3 and idade > 15 and idade < 35:\n",
        "    olho_verde_cabelo_loiro_15_a_35_anos += 1\n",
        "\n",
        "print(f' A quantidade de pessoas do sexo feminino, com idade acima de 50 anos é {sexo_fem_50_mais} e A quantidade de pessoas que tem olhos verdes, cabelos loiros e com idade entre 15 e 35 anos é {olho_verde_cabelo_loiro_15_a_35_anos}')"
      ],
      "metadata": {
        "colab": {
          "base_uri": "https://localhost:8080/"
        },
        "id": "Q-dMxUKZsXVu",
        "outputId": "9d896e67-d479-44fa-c8e6-ec79c5398e34"
      },
      "execution_count": 25,
      "outputs": [
        {
          "output_type": "stream",
          "name": "stdout",
          "text": [
            "Digite o gênero da cidadã ou cidadão (M ou F). Digite 0 para sair: 0\n",
            " A quantidade de pessoas do sexo feminino, com idade acima de 50 anos é 0 e A quantidade de pessoas que tem olhos verdes, cabelos loiros e com idade entre 15 e 35 anos é 0\n"
          ]
        }
      ]
    }
  ]
}