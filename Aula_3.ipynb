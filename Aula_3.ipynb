{
  "nbformat": 4,
  "nbformat_minor": 0,
  "metadata": {
    "colab": {
      "provenance": [],
      "authorship_tag": "ABX9TyPu6prfg3WQlyMLNQ5D1fD6",
      "include_colab_link": true
    },
    "kernelspec": {
      "name": "python3",
      "display_name": "Python 3"
    },
    "language_info": {
      "name": "python"
    }
  },
  "cells": [
    {
      "cell_type": "markdown",
      "metadata": {
        "id": "view-in-github",
        "colab_type": "text"
      },
      "source": [
        "<a href=\"https://colab.research.google.com/github/brunaguedes92/LogProgPython/blob/main/Aula_3.ipynb\" target=\"_parent\"><img src=\"https://colab.research.google.com/assets/colab-badge.svg\" alt=\"Open In Colab\"/></a>"
      ]
    },
    {
      "cell_type": "markdown",
      "source": [
        "LISTA DE EXERCÍCIOS\n",
        "\n",
        "ESTRUTURA DE CONTROLE CONDICIONAL\n",
        "\n",
        "1. Faça um programa que leia um número e, caso ele seja maior ou igual a zero, calcule e\n",
        "mostre o número digitado ao quadrado. Caso ele seja menor que zero, mostre o dobro deste\n",
        "número."
      ],
      "metadata": {
        "id": "Uxx0akg1IyDx"
      }
    },
    {
      "cell_type": "code",
      "execution_count": 2,
      "metadata": {
        "colab": {
          "base_uri": "https://localhost:8080/"
        },
        "id": "mqUhw3bAIuoA",
        "outputId": "45cf8099-6609-411f-efcb-12aa93a6189f"
      },
      "outputs": [
        {
          "output_type": "stream",
          "name": "stdout",
          "text": [
            "Digite um número: -1\n",
            "O dobro do número é: -2.0\n"
          ]
        }
      ],
      "source": [
        "numero = float(input(\"Digite um número: \"))\n",
        "\n",
        "if numero >= 0:\n",
        "    quadrado = numero ** 2\n",
        "    print(\"O número ao quadrado é:\", quadrado)\n",
        "else:\n",
        "    dobro = numero * 2\n",
        "    print(\"O dobro do número é:\", dobro)"
      ]
    },
    {
      "cell_type": "markdown",
      "source": [
        "2. Faça um Programa que peça um número inteiro e determine se ele é par ou ímpar. Dica:\n",
        "utilize o operador módulo (resto da divisão)."
      ],
      "metadata": {
        "id": "jjYDjkAeJhtR"
      }
    },
    {
      "cell_type": "code",
      "source": [
        "numero = int(input(\"Digite um número inteiro: \"))\n",
        "\n",
        "if numero % 2 == 0:\n",
        "    print(\"O número é par.\")\n",
        "else:\n",
        "    print(\"O número é ímpar.\")\n"
      ],
      "metadata": {
        "colab": {
          "base_uri": "https://localhost:8080/"
        },
        "id": "jzQTgqw2JoM1",
        "outputId": "753ed553-d209-4e38-bcba-7c25f3a698d5"
      },
      "execution_count": 4,
      "outputs": [
        {
          "output_type": "stream",
          "name": "stdout",
          "text": [
            "Digite um número inteiro: 3\n",
            "O número é ímpar.\n"
          ]
        }
      ]
    },
    {
      "cell_type": "markdown",
      "source": [
        "3. Escreva um programa que leia 3 números e imprima o maior e o menor na mesma\n",
        "mensagem."
      ],
      "metadata": {
        "id": "_nr-e3NMJqQr"
      }
    },
    {
      "cell_type": "code",
      "source": [
        "numero1 = float(input(\"Digite o primeiro número: \"))\n",
        "numero2 = float(input(\"Digite o segundo número: \"))\n",
        "numero3 = float(input(\"Digite o terceiro número: \"))\n",
        "\n",
        "# Encontrando o maior número\n",
        "maior = max(numero1, numero2, numero3)\n",
        "\n",
        "# Encontrando o menor número\n",
        "menor = min(numero1, numero2, numero3)\n",
        "\n",
        "print(\"O maior número é\", maior, \"e o menor número é\", menor)"
      ],
      "metadata": {
        "colab": {
          "base_uri": "https://localhost:8080/"
        },
        "id": "HizOIR_LJrK4",
        "outputId": "3712dbcb-4e8d-4b62-82a7-f89d474cf2e9"
      },
      "execution_count": 5,
      "outputs": [
        {
          "output_type": "stream",
          "name": "stdout",
          "text": [
            "Digite o primeiro número: 4\n",
            "Digite o segundo número: 6\n",
            "Digite o terceiro número: 3\n",
            "O maior número é 6.0 e o menor número é 3.0\n"
          ]
        }
      ]
    }
  ]
}