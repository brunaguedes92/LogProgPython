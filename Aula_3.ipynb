{
  "nbformat": 4,
  "nbformat_minor": 0,
  "metadata": {
    "colab": {
      "provenance": [],
      "authorship_tag": "ABX9TyOeivEf8Qg95k1fBqiXoRm7",
      "include_colab_link": true
    },
    "kernelspec": {
      "name": "python3",
      "display_name": "Python 3"
    },
    "language_info": {
      "name": "python"
    }
  },
  "cells": [
    {
      "cell_type": "markdown",
      "metadata": {
        "id": "view-in-github",
        "colab_type": "text"
      },
      "source": [
        "<a href=\"https://colab.research.google.com/github/brunaguedes92/LogProgPython/blob/main/Aula_3.ipynb\" target=\"_parent\"><img src=\"https://colab.research.google.com/assets/colab-badge.svg\" alt=\"Open In Colab\"/></a>"
      ]
    },
    {
      "cell_type": "markdown",
      "source": [
        "LISTA DE EXERCÍCIOS\n",
        "CONCEITOS INCIAIS E VARIÁVEIS\n",
        "\n",
        "1. Faça um programa que solicite o raio de um círculo, calcule e mostre sua área (A = π * r2, considere π = 3.14).\n"
      ],
      "metadata": {
        "id": "tmTEWA_BYqXC"
      }
    },
    {
      "cell_type": "code",
      "execution_count": 1,
      "metadata": {
        "colab": {
          "base_uri": "https://localhost:8080/"
        },
        "id": "oF2L1C4IYlbT",
        "outputId": "6c5d7d75-770c-478f-e1c8-413b5c8ec168"
      },
      "outputs": [
        {
          "output_type": "stream",
          "name": "stdout",
          "text": [
            "Informe o raio de um círculo: 4\n",
            "A área do círculo é 50.24\n"
          ]
        }
      ],
      "source": [
        "raio = float(input('Informe o raio de um círculo: '))\n",
        "\n",
        "print(f'A área do círculo é {3.14*(raio**2)}')"
      ]
    },
    {
      "cell_type": "markdown",
      "source": [
        "2. Faça um programa que calcule a área de um quadrado, em seguida mostre seu resultado (A=L2)."
      ],
      "metadata": {
        "id": "byf0Y0GVYqYb"
      }
    },
    {
      "cell_type": "code",
      "source": [
        "lado = float(input('Informe a medida do lado do quadrado: '))\n",
        "\n",
        "print(f'A área do quadrado é {lado**2}')"
      ],
      "metadata": {
        "colab": {
          "base_uri": "https://localhost:8080/"
        },
        "id": "eGZdLJh52MRv",
        "outputId": "8e5b96e2-376f-456f-eacc-63d607bda7fc"
      },
      "execution_count": 3,
      "outputs": [
        {
          "output_type": "stream",
          "name": "stdout",
          "text": [
            "Informe a medida do lado do quadrado: 5\n",
            "A área do quadrado é 25.0\n"
          ]
        }
      ]
    },
    {
      "cell_type": "markdown",
      "source": [
        "\n",
        "3. Faça um programa que pergunte quanto você ganha por hora e o número de horas\n",
        "trabalhadas por semana. Calcule e mostre seu salário por semana.\n"
      ],
      "metadata": {
        "id": "zqs4nb1_2Mi-"
      }
    },
    {
      "cell_type": "code",
      "source": [
        "salario_hora = float(input('Quanto você ganha por hora? '))\n",
        "horas_semana = float(input('Quantas horas você trabalha por semana? '))\n",
        "\n",
        "print(f'O salário por semana é {salario_hora * horas_semana}')"
      ],
      "metadata": {
        "colab": {
          "base_uri": "https://localhost:8080/"
        },
        "id": "TATy5I2g24no",
        "outputId": "f9d4f7a9-8e44-4424-eb38-386cd305c0fd"
      },
      "execution_count": 4,
      "outputs": [
        {
          "output_type": "stream",
          "name": "stdout",
          "text": [
            "Quanto você ganha por hora? 20\n",
            "Quantas horas você trabalha por semana? 5\n",
            "O salário por semana é 100.0\n"
          ]
        }
      ]
    },
    {
      "cell_type": "markdown",
      "source": [
        "4. Faça um programa que peça 2 números inteiros e um número real. Calcule e mostre:\n",
        "\n",
        "a) o produto do dobro do primeiro com metade do segundo;\n",
        "\n",
        "b) a soma do triplo do primeiro com o terceiro;\n",
        "\n",
        "c) o terceiro elevado ao cubo.\n"
      ],
      "metadata": {
        "id": "uTI_Mv0q25E-"
      }
    },
    {
      "cell_type": "code",
      "source": [
        "int1 = int(input('Digite um número inteiro: '))\n",
        "int2 = int(input('Digite outo número inteiro: '))\n",
        "real = float(input('Digite um número real: '))\n",
        "\n",
        "print(f'O produto do dobro do primeiro com metade do segundo: {int1*(int2/2)}')\n",
        "print(f'A soma do triplo do primeiro com o terceiro: {int1*3+real}')\n",
        "print(f'O terceiro elevado ao cubo: {real**3}')"
      ],
      "metadata": {
        "colab": {
          "base_uri": "https://localhost:8080/"
        },
        "id": "XaGUYYC_32Yn",
        "outputId": "94d129ea-a050-44b0-e98f-420f00205ab0"
      },
      "execution_count": 6,
      "outputs": [
        {
          "output_type": "stream",
          "name": "stdout",
          "text": [
            "Digite um número inteiro: 4\n",
            "Digite outo número inteiro: 5\n",
            "Digite um número real: 1.5\n",
            "O produto do dobro do primeiro com metade do segundo: 10.0\n",
            "A soma do triplo do primeiro com o terceiro: 13.5\n",
            "O terceiro elevado ao cubo: 3.375\n"
          ]
        }
      ]
    },
    {
      "cell_type": "markdown",
      "source": [
        "\n",
        "5. Efetuar o cálculo da quantidade de litros de combustível gasta em uma viagem, utilizando\n",
        "um automóvel que faz 12 quilômetros por litro. Para o cálculo, o usuário deve fornecer o\n",
        "tempo gasto e a velocidade média durante a viagem. Desta forma, será possível obter a\n",
        "distância percorrida com a fórmula:\n",
        "\n",
        "DISTANCIA ← VELOCIDADE × TEMPO.\n",
        "\n",
        "A partir do valor da distância, basta calcular a quantidade em litros de combustível utilizada\n",
        "na viagem com a fórmula:\n",
        "\n",
        "LITROS_USADOS ← DISTANCIA / 12.\n",
        "\n",
        "O programa deve apresentar os valores da velocidade média, tempo gasto na viagem, a\n",
        "distância percorrida e a quantidade de litros utilizadas na viagem."
      ],
      "metadata": {
        "id": "uJn9c6ql328s"
      }
    },
    {
      "cell_type": "code",
      "source": [
        "tempo_gasto = int(input('Digite o tempo gasto na viagem: '))\n",
        "velocidade_media = int(input('Digite velocidade média durante a viagem: '))\n",
        "\n",
        "distancia = tempo_gasto * velocidade_media\n",
        "litros_usados = distancia/12\n",
        "\n",
        "print(f'Velocidade média: {velocidade_media}, tempo gasto na viagem: {tempo_gasto}, a distância percorrida: {distancia}, quantidade de litros utilizadas na viagem: {litros_usados}')\n"
      ],
      "metadata": {
        "colab": {
          "base_uri": "https://localhost:8080/"
        },
        "id": "H-7nTj1M38wG",
        "outputId": "57b9b730-41b3-42dc-c3f4-008c983dac2d"
      },
      "execution_count": 7,
      "outputs": [
        {
          "output_type": "stream",
          "name": "stdout",
          "text": [
            "Digite o tempo gasto na viagem: 2\n",
            "Digite velocidade média durante a viagem: 80\n",
            "Velocidade média: 80, tempo gasto na viagem: 2, a distância percorrida: 160, quantidade de litros utilizadas na viagem: 13.333333333333334\n"
          ]
        }
      ]
    },
    {
      "cell_type": "markdown",
      "source": [
        "6. Elaborar um programa que calcule e apresente o valor do volume de uma caixa retangular,\n",
        "utilizando a fórmula:\n",
        "\n",
        "VOLUME = COMPRIMENTO * LARGURA * ALTURA"
      ],
      "metadata": {
        "id": "TeKwcMmx39xL"
      }
    },
    {
      "cell_type": "code",
      "source": [
        "comprimento = float(input('Digite o comprimento da caixa retangular: '))\n",
        "largura = float(input('Digite a largura da caixa retangular: '))\n",
        "altura = float(input('Digite a altura da caixa retangular: '))\n",
        "\n",
        "print(f'O volume da caixa retangular é {comprimento *largura * altura}')\n"
      ],
      "metadata": {
        "colab": {
          "base_uri": "https://localhost:8080/"
        },
        "id": "Qk1HaPPR3_Gm",
        "outputId": "c7b7a35b-ba2a-40a4-9adc-6b195739e517"
      },
      "execution_count": 9,
      "outputs": [
        {
          "output_type": "stream",
          "name": "stdout",
          "text": [
            "Digite o comprimento da caixa retangular: 4\n",
            "Digite a largura da caixa retangular: 5\n",
            "Digite a altura da caixa retangular: 3\n",
            "O volume da caixa retangular é 60.0\n"
          ]
        }
      ]
    }
  ]
}