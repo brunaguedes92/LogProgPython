{
  "nbformat": 4,
  "nbformat_minor": 0,
  "metadata": {
    "colab": {
      "provenance": [],
      "authorship_tag": "ABX9TyPrhK1Gemean3XtRQONB5WS",
      "include_colab_link": true
    },
    "kernelspec": {
      "name": "python3",
      "display_name": "Python 3"
    },
    "language_info": {
      "name": "python"
    }
  },
  "cells": [
    {
      "cell_type": "markdown",
      "metadata": {
        "id": "view-in-github",
        "colab_type": "text"
      },
      "source": [
        "<a href=\"https://colab.research.google.com/github/brunaguedes92/LogProgPython/blob/main/Aula_9.ipynb\" target=\"_parent\"><img src=\"https://colab.research.google.com/assets/colab-badge.svg\" alt=\"Open In Colab\"/></a>"
      ]
    },
    {
      "cell_type": "markdown",
      "source": [
        "LISTA DE EXERCÍCIOS\n",
        "ESTRUTURA DE REPETIÇÃO\n",
        "\n",
        "1. Um vendedor necessita de um algoritmo que calcule o preço total devido por um cliente. O\n",
        "algoritmo deve receber o código de um produto e a quantidade comprada e calcular o preço\n",
        "total, usando a tabela abaixo. O processamento deve existir enquanto houver compra\n",
        "realizada pelo cliente.\n",
        "\n",
        "![image.png](data:image/png;base64,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)"
      ],
      "metadata": {
        "id": "tSeA86pk-HQF"
      }
    },
    {
      "cell_type": "code",
      "source": [
        "produtos = {\n",
        "    '1001': 5.32,\n",
        "    '1324': 6.45,\n",
        "    '6548': 2.37,\n",
        "    '0987': 5.32,\n",
        "    '7623': 6.45\n",
        "}\n",
        "\n",
        "preco_total = 0\n",
        "\n",
        "while True:\n",
        "  codigo_do_produto = input('Digite o código do produto. Digite 0 para sair: ')\n",
        "  if codigo_do_produto == '0':\n",
        "    break\n",
        "  quantidade = int(input('Digite a quantidade: '))\n",
        "  preco_total = preco_total + produtos[codigo_do_produto] * quantidade\n",
        "\n",
        "print(f'O preço total da compra é {preco_total}')"
      ],
      "metadata": {
        "colab": {
          "base_uri": "https://localhost:8080/"
        },
        "id": "Gp3CEHUb-IVF",
        "outputId": "4b42fff9-b0b5-418c-e54d-f686c9ab5f05"
      },
      "execution_count": 6,
      "outputs": [
        {
          "output_type": "stream",
          "name": "stdout",
          "text": [
            "Digite o código do produto. Digite 0 para sair: 0987\n",
            "Digite a quantidade: 1\n",
            "Digite o código do produto. Digite 0 para sair: 7623\n",
            "Digite a quantidade: 5\n",
            "Digite o código do produto. Digite 0 para sair: 0\n",
            "O preço total da compra é 37.57\n"
          ]
        }
      ]
    },
    {
      "cell_type": "markdown",
      "source": [
        "2. As servidoras públicas Mariane e Letícia precisam despachar uma pilha de processos. Para\n",
        "facilitar a distribuição entre elas, decidiram fazer um programa que separe os processos de\n",
        "números pares para ficar com a servidora Mariane e o restante ficará com a servidora Letícia.\n",
        "Faça um programa que receba como entrada os números dos processos e imprima na tela os\n",
        "processos que ficarão com a servidora Mariane. O programa se encerrará quando receber o\n",
        "valor de -1."
      ],
      "metadata": {
        "id": "onYionJt-KQE"
      }
    },
    {
      "cell_type": "code",
      "source": [
        "mariane = []\n",
        "leticia = []\n",
        "\n",
        "while True:\n",
        "  num_processo = int(input('Digite o número do processo. Digite -1 para sair: '))\n",
        "  if num_processo == -1:\n",
        "    break\n",
        "  if num_processo % 2 == 0:\n",
        "    mariane.append(num_processo)\n",
        "  else: \n",
        "    leticia.append(num_processo)\n",
        "\n",
        "print(f'Os processos que ficarão coma servidora Mariane são:')\n",
        "\n",
        "for processo in mariane:\n",
        "  print(processo)\n",
        "\n",
        "print(f'Os processos que ficarão coma servidora Letícia são:')\n",
        "\n",
        "for processo in leticia:\n",
        "  print(processo)\n",
        "  "
      ],
      "metadata": {
        "colab": {
          "base_uri": "https://localhost:8080/"
        },
        "id": "-8Vvdcj9-MKl",
        "outputId": "ae415e98-3c6b-4cbf-ec86-c949029bda37"
      },
      "execution_count": 9,
      "outputs": [
        {
          "output_type": "stream",
          "name": "stdout",
          "text": [
            "Digite o número do processo. Digite -1 para sair: 1234\n",
            "Digite o número do processo. Digite -1 para sair: 9876\n",
            "Digite o número do processo. Digite -1 para sair: 1235\n",
            "Digite o número do processo. Digite -1 para sair: 6541\n",
            "Digite o número do processo. Digite -1 para sair: -1\n",
            "Os processos que ficarão coma servidora Mariane são:\n",
            "1234\n",
            "9876\n",
            "Os processos que ficarão coma servidora Letícia são:\n",
            "1235\n",
            "6541\n"
          ]
        }
      ]
    },
    {
      "cell_type": "markdown",
      "source": [
        "3. Elaborar um programa que possibilite calcular a área total em metros de uma residência\n",
        "com os cômodos sala, cozinha, banheiro, dois quartos, área de serviço, quintal, garagem,\n",
        "entre outros que podem ser fornecidos ao programa. O programa deve solicitar a entrada do\n",
        "nome, da largura e do comprimento de um determinado cômodo. Em seguida, deve\n",
        "apresentar a área do cômodo lido e também uma mensagem solicitando ao usuário a\n",
        "confirmação de continuar calculando novas áreas de cômodos. Como saída, o programa deve\n",
        "apresentar o valor total acumulado da área residencial."
      ],
      "metadata": {
        "id": "ScZmScL5-Npd"
      }
    },
    {
      "cell_type": "code",
      "source": [
        "area_da_residencia = 0\n",
        "\n",
        "while True:\n",
        "  comodo = input('Digite o nome do cômodo: ')\n",
        "  largura = float(input('Digite a largura do cômodo: '))\n",
        "  comprimento = float(input('Digite o comprimento do cômodo: '))\n",
        "\n",
        "  area_do_comodo = largura * comprimento\n",
        "\n",
        "  area_da_residencia += area_do_comodo\n",
        "\n",
        "  continuar = input('Digite 1 para continuar calculando novas área de cômodos. Digite qualquer outra tecla para sair: ')\n",
        "\n",
        "  if continuar != '1':\n",
        "    break\n",
        "\n",
        "print(f'A área total da residência é {area_da_residencia}')\n",
        "\n"
      ],
      "metadata": {
        "colab": {
          "base_uri": "https://localhost:8080/"
        },
        "id": "B2x3Id88-Op0",
        "outputId": "8183aff5-8939-4d77-d120-a37b3fe1145d"
      },
      "execution_count": 11,
      "outputs": [
        {
          "output_type": "stream",
          "name": "stdout",
          "text": [
            "Digite o nome do cômodo: banheiro\n",
            "Digite a largura do cômodo: 5\n",
            "Digite o comprimento do cômodo: 5\n",
            "Digite 1 para continuar calculando novas área de cômodos. Digite qualquer outra tecla para sair: 1\n",
            "Digite o nome do cômodo: quarto\n",
            "Digite a largura do cômodo: 8\n",
            "Digite o comprimento do cômodo: 8\n",
            "Digite 1 para continuar calculando novas área de cômodos. Digite qualquer outra tecla para sair: 2\n",
            "A área total da residência é 89.0\n"
          ]
        }
      ]
    },
    {
      "cell_type": "markdown",
      "source": [
        "Desafio\n",
        "\n",
        "O governo disponibilizou um orçamento para investir em projetos para inclusão de minorias.\n",
        "O projeto com maior pontuação será selecionado e receberá o orçamento para execução de\n",
        "suas atividades.\n",
        "A pontuação dos projetos para ranqueamento será dada conforme a lista abaixo:\n",
        "1. Membros do projeto com doutorado - 10 pontos por membro;\n",
        "2. Membros do projeto com mestrado - 5 pontos por membro;\n",
        "3. Tempo de atuação do projeto - 5 pontos por ano;\n",
        "4. Mulheres na equipe - 3 pontos por membro;\n",
        "5. Cidades de atuação do projeto - 1 ponto por cidade.\n",
        "\n",
        "\n",
        "Faça um programa que receba como entrada as inscrições dos projetos e imprima na tela:\n",
        "\n",
        "\n",
        "1. O nome do projeto selecionado;\n",
        "2. A pontuação que o projeto ganhador obteve.\n",
        "O programa também precisa mostrar as seguintes estatísticas do edital:\n",
        "1. Número de projetos inscritos;\n",
        "2. Média da pontuação dos projetos;"
      ],
      "metadata": {
        "id": "nqKze6B6-RxF"
      }
    },
    {
      "cell_type": "code",
      "source": [],
      "metadata": {
        "id": "Dha5vIeD-ST1"
      },
      "execution_count": null,
      "outputs": []
    }
  ]
}